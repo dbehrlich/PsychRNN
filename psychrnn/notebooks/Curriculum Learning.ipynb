{
 "cells": [
  {
   "cell_type": "code",
   "execution_count": 1,
   "metadata": {},
   "outputs": [],
   "source": [
    "import psychrnn\n",
    "from psychrnn.tasks import rdm as rd\n",
    "from psychrnn.backend.models.basic import Basic\n",
    "from psychrnn.backend.curriculum import Curriculum, default_metric\n",
    "import numpy as np\n",
    "\n",
    "import tensorflow as tf\n",
    "from matplotlib import pyplot as plt\n",
    "%matplotlib inline"
   ]
  },
  {
   "cell_type": "markdown",
   "metadata": {},
   "source": [
    "define params globally first before passing to RDM, mess w/ model params and explain what can do. (can turn on and off dale's law). some masking, input output connectivity. train_params variables stuff"
   ]
  },
  {
   "cell_type": "code",
   "execution_count": 2,
   "metadata": {},
   "outputs": [],
   "source": [
    "dt = 10 # time-step\n",
    "tau = 100 # intrinsic time constant of neural state decay\n",
    "T = 2000 # time to run for (number of steps is T/dt)\n",
    "N_batch = 50 # number of trials per training step\n",
    "N_rec = 50 # number of recurrent units\n",
    "name = 'curriculumModel'"
   ]
  },
  {
   "cell_type": "markdown",
   "metadata": {},
   "source": [
    "We generate a list of tasks that constitute are curriculum. We will train on these tasks one after another. In this example, we train the network on tasks with higher coherence, slowly decreasing to lower coherence."
   ]
  },
  {
   "cell_type": "code",
   "execution_count": 3,
   "metadata": {},
   "outputs": [],
   "source": [
    "rdms = [rd.RDM(dt = dt, tau = tau, T = T, N_batch = N_batch, coherence = i*.1) for i in range(10,0,-2)]"
   ]
  },
  {
   "cell_type": "markdown",
   "metadata": {},
   "source": [
    "We add in a few params that Basic(RNN) needs but that RDM doesn't generate for us."
   ]
  },
  {
   "cell_type": "code",
   "execution_count": 4,
   "metadata": {},
   "outputs": [],
   "source": [
    "params = rdms[0].__dict__\n",
    "params['name'] = name #Used to scope out a namespace for global variables.\n",
    "params['N_rec'] = N_rec"
   ]
  },
  {
   "cell_type": "markdown",
   "metadata": {},
   "source": [
    "Instantiate two models. *curriculumModel* that will be trained on the series of tasks, rdms, defined above. *basicModel* will be trained only on the final task with lowest coherence."
   ]
  },
  {
   "cell_type": "code",
   "execution_count": 5,
   "metadata": {},
   "outputs": [],
   "source": [
    "curriculumModel = Basic(params)\n",
    "params['name'] = 'basicModel'\n",
    "basicModel = Basic(params)"
   ]
  },
  {
   "cell_type": "markdown",
   "metadata": {},
   "source": [
    "Start a tensorflow session with loss, regularization, predictions, and regularized loss defined."
   ]
  },
  {
   "cell_type": "code",
   "execution_count": 6,
   "metadata": {},
   "outputs": [],
   "source": [
    "basicModel.build()\n",
    "curriculumModel.build()"
   ]
  },
  {
   "cell_type": "markdown",
   "metadata": {},
   "source": [
    "Set options for the curriculum object."
   ]
  },
  {
   "cell_type": "code",
   "execution_count": 7,
   "metadata": {},
   "outputs": [],
   "source": [
    "metric = default_metric # optional custom defined metric function with signature metric(curriculum_params, input_data, correct_output, output_mask, output, epoch, losses, verbosity), outputs (bool: advanceStage, float: metricValue)\n",
    "accuracies = [rdms[i].accuracy_function for i in range(len(rdms))] # optional list of function to use to calculate network performance for the purposes of advancing tasks . default: [tasks[i].accuracy_function for i in range(len(tasks))]\n",
    "thresholds = [.9 for i in range(len(rdms))] # optional list of thresholds that must be hit as defined in metric before advancing stage. default: [.9 for i in range(len(tasks))]\n",
    "metric_epoch = 10 # optional int for how often to evaluate the metric function to see if it is time to advance stage. default: 10\n",
    "output_file = None # where to save out the metric_values. If None, values will not be saved. default: None"
   ]
  },
  {
   "cell_type": "markdown",
   "metadata": {},
   "source": [
    "Initialize a curriculum object with information about the tasks we want to train on."
   ]
  },
  {
   "cell_type": "code",
   "execution_count": 8,
   "metadata": {},
   "outputs": [],
   "source": [
    "curriculum = Curriculum(rdms, output_file=output_file, metric_epoch=metric_epoch, thresholds =thresholds, accuracies =accuracies, metric=metric)"
   ]
  },
  {
   "cell_type": "markdown",
   "metadata": {},
   "source": [
    "Set the training parameters for our model. All of the parameters below are optional."
   ]
  },
  {
   "cell_type": "code",
   "execution_count": 9,
   "metadata": {},
   "outputs": [],
   "source": [
    "train_params = {}\n",
    "train_params['save_weights_path'] =  '../weights/refactor_weights.npz' # Where to save the model after training. Default: None\n",
    "train_params['training_iters'] = 10000 # number of iterations to train for Default: 10000\n",
    "train_params['learning_rate'] = .001 # Sets learning rate if use default optimizer Default: .001\n",
    "train_params['loss_epoch'] = 10 # Compute and record loss every 'loss_epoch' epochs. Default: 10\n",
    "train_params['verbosity'] = True # If true, prints information as training progresses. Default: True\n",
    "train_params['save_training_weights_epoch'] = 100 # save training weights every 'save_training_weights_epoch' epochs. Default: 100\n",
    "train_params['training_weights_path'] = None # where to save training weights as training progresses. Default: None\n",
    "train_params['optimizer'] = tf.train.AdamOptimizer(learning_rate=train_params['learning_rate']) # What optimizer to use to compute gradients. Default: tf.train.AdamOptimizer(learning_rate=train_params['learning_rate'])\n",
    "train_params['clip_grads'] = True # If true, clip gradients by norm 1. Default: True\n",
    "train_params['curriculum'] = curriculum"
   ]
  },
  {
   "cell_type": "markdown",
   "metadata": {},
   "source": [
    "Train our model."
   ]
  },
  {
   "cell_type": "code",
   "execution_count": 10,
   "metadata": {},
   "outputs": [
    {
     "name": "stdout",
     "output_type": "stream",
     "text": [
      "Iter 500, Minibatch Loss= 0.132084\n",
      "Accuracy: 0.36\n",
      "Iter 1000, Minibatch Loss= 0.107688\n",
      "Accuracy: 0.42\n",
      "Iter 1500, Minibatch Loss= 0.094331\n",
      "Accuracy: 0.98\n",
      "Stage 1\n",
      "Iter 2000, Minibatch Loss= 0.061496\n",
      "Accuracy: 1.0\n",
      "Stage 2\n",
      "Iter 2500, Minibatch Loss= 0.025351\n",
      "Accuracy: 1.0\n",
      "Stage 3\n",
      "Iter 3000, Minibatch Loss= 0.024720\n",
      "Accuracy: 1.0\n",
      "Stage 4\n",
      "Iter 3500, Minibatch Loss= 0.158929\n",
      "Accuracy: 0.54\n",
      "Iter 4000, Minibatch Loss= 0.028264\n",
      "Accuracy: 1.0\n",
      "Stage 5\n",
      "Optimization finished!\n",
      "Model saved in file: ../weights/refactor_weights.npz\n",
      "Iter 500, Minibatch Loss= 0.238419\n",
      "Iter 1000, Minibatch Loss= 0.180744\n",
      "Iter 1500, Minibatch Loss= 0.114845\n",
      "Iter 2000, Minibatch Loss= 0.124805\n",
      "Iter 2500, Minibatch Loss= 0.122966\n",
      "Iter 3000, Minibatch Loss= 0.125236\n",
      "Iter 3500, Minibatch Loss= 0.125670\n",
      "Iter 4000, Minibatch Loss= 0.129873\n",
      "Iter 4500, Minibatch Loss= 0.118622\n",
      "Iter 5000, Minibatch Loss= 0.125554\n",
      "Iter 5500, Minibatch Loss= 0.129961\n",
      "Iter 6000, Minibatch Loss= 0.121030\n",
      "Iter 6500, Minibatch Loss= 0.119804\n",
      "Iter 7000, Minibatch Loss= 0.122836\n",
      "Iter 7500, Minibatch Loss= 0.131014\n",
      "Iter 8000, Minibatch Loss= 0.111383\n",
      "Iter 8500, Minibatch Loss= 0.121535\n",
      "Iter 9000, Minibatch Loss= 0.116539\n",
      "Iter 9500, Minibatch Loss= 0.120705\n",
      "Optimization finished!\n",
      "Model saved in file: ../weights/refactor_weights.npz\n"
     ]
    }
   ],
   "source": [
    "curriculum_losses, _,_ = curriculumModel.train(None, train_params)\n",
    "train_params['curriculum'] = None\n",
    "basic_losses,_,_ = basicModel.train(rdms[len(rdms)-1].batch_generator(), train_params)"
   ]
  },
  {
   "cell_type": "markdown",
   "metadata": {},
   "source": [
    "### Plot results"
   ]
  },
  {
   "cell_type": "markdown",
   "metadata": {},
   "source": [
    "Extract the next trial from the generator"
   ]
  },
  {
   "cell_type": "code",
   "execution_count": 11,
   "metadata": {},
   "outputs": [],
   "source": [
    "gen = rdms[len(rdms) - 1].batch_generator()\n",
    "x,y,m = next(gen)"
   ]
  },
  {
   "cell_type": "code",
   "execution_count": 13,
   "metadata": {},
   "outputs": [
    {
     "data": {
      "image/png": "[encoded data removed]",
      "text/plain": [
       "<Figure size 432x288 with 1 Axes>"
      ]
     },
     "metadata": {
      "needs_background": "light"
     },
     "output_type": "display_data"
    }
   ],
   "source": [
    "plt.plot( curriculum_losses, 'b--')\n",
    "plt.plot(basic_losses, 'g--')\n",
    "plt.title(\"Blue -- = curriculum, Green --= non curriculum\")\n",
    "plt.ylabel('Cost')\n",
    "plt.xlabel('Number of updates (k)')\n",
    "plt.show()"
   ]
  },
  {
   "cell_type": "markdown",
   "metadata": {},
   "source": [
    "Clean up the model to clear out the tensorflow namespace"
   ]
  },
  {
   "cell_type": "code",
   "execution_count": 14,
   "metadata": {},
   "outputs": [],
   "source": [
    "basicModel.destruct()"
   ]
  },
  {
   "cell_type": "code",
   "execution_count": 15,
   "metadata": {},
   "outputs": [],
   "source": [
    "curriculumModel.destruct()"
   ]
  }
 ],
 "metadata": {
  "kernelspec": {
   "display_name": "Python 3",
   "language": "python",
   "name": "python3"
  },
  "language_info": {
   "codemirror_mode": {
    "name": "ipython",
    "version": 3
   },
   "file_extension": ".py",
   "mimetype": "text/x-python",
   "name": "python",
   "nbconvert_exporter": "python",
   "pygments_lexer": "ipython3",
   "version": "3.6.7"
  }
 },
 "nbformat": 4,
 "nbformat_minor": 2
}
